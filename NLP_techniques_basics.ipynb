{
 "cells": [
  {
   "cell_type": "code",
   "execution_count": null,
   "id": "a925a7f8",
   "metadata": {},
   "outputs": [],
   "source": [
    "# Install the below packages\n",
    "# pip install nltk\n",
    "# pip install gensim"
   ]
  },
  {
   "cell_type": "code",
   "execution_count": 1,
   "id": "fe7c2b91",
   "metadata": {},
   "outputs": [],
   "source": [
    "# Load the packages\n",
    "import nltk\n",
    "import re\n",
    "from nltk.stem import PorterStemmer\n",
    "from nltk.corpus import stopwords\n",
    "from nltk.stem import WordNetLemmatizer\n",
    "from sklearn.feature_extraction.text import CountVectorizer\n",
    "from sklearn.feature_extraction.text import TfidfVectorizer"
   ]
  },
  {
   "cell_type": "markdown",
   "id": "18ee0f3d",
   "metadata": {},
   "source": [
    "Input paragraph"
   ]
  },
  {
   "cell_type": "code",
   "execution_count": 2,
   "id": "e796e09b",
   "metadata": {},
   "outputs": [],
   "source": [
    "paragraph = \"Narendra Damodardas Modi (Gujarati: [ˈnəɾendɾə dɑmodəɾˈdɑs ˈmodiː] ⓘ; born 17 September 1950)[b] is an Indian politician who has served as the 14th prime minister of India since May 2014. Modi was the chief minister of Gujarat from 2001 to 2014 and is the Member of Parliament (MP) for Varanasi. He is a member of the Bharatiya Janata Party (BJP) and of the Rashtriya Swayamsevak Sangh (RSS), a right wing Hindu nationalist paramilitary volunteer organisation. He is the longest-serving prime minister from outside the Indian National Congress.Modi was born and raised in Vadnagar in northeastern Gujarat, where he completed his secondary education. He was introduced to the RSS at the age of eight. At age 18, he was married to Jashodaben Modi, whom he abandoned soon after, only publicly acknowledging her four decades later when legally required to do so. Modi became a full-time worker for the RSS in Gujarat in 1971. The RSS assigned him to the BJP in 1985 and he held several positions within the party hierarchy until 2001, rising to the rank of general secretary.[c]\"\n",
    "\n",
    "paragraph = \"Artificial intelligence (AI), in its broadest sense, is intelligence exhibited by machines, particularly computer systems. It is a field of research in computer science that develops and studies methods and software that enable machines to perceive their environment and uses learning and intelligence to take actions that maximize their chances of achieving defined goals.[1] Such machines may be called AIs.AI technology is widely used throughout industry, government, and science. Some high-profile applications include advanced web search engines (e.g., Google Search); recommendation systems (used by YouTube, Amazon, and Netflix); interacting via human speech (e.g., Google Assistant, Siri, and Alexa); autonomous vehicles (e.g., Waymo); generative and creative tools (e.g., ChatGPT and AI art); and superhuman play and analysis in strategy games (e.g., chess and Go).[2] However, many AI applications are not perceived as AI: A lot of cutting edge AI has filtered into general applications, often without being called AI because once something becomes useful enough and common enough it's not labeled AI anymore.[3][4]Alan Turing was the first person to conduct substantial research in the field that he called machine intelligence.[5] Artificial intelligence was founded as an academic discipline in 1956.[6] The field went through multiple cycles of optimism,[7][8] followed by periods of disappointment and loss of funding, known as AI winter.[9][10] Funding and interest vastly increased after 2012 when deep learning surpassed all previous AI techniques,[11] and after 2017 with the transformer architecture.[12] This led to the AI boom of the early 2020s, with companies, universities, and laboratories overwhelmingly based in the United States pioneering significant advances in artificial intelligence.[13]\""
   ]
  },
  {
   "cell_type": "code",
   "execution_count": 3,
   "id": "1d335754",
   "metadata": {},
   "outputs": [
    {
     "data": {
      "text/plain": [
       "\"Artificial intelligence (AI), in its broadest sense, is intelligence exhibited by machines, particularly computer systems. It is a field of research in computer science that develops and studies methods and software that enable machines to perceive their environment and uses learning and intelligence to take actions that maximize their chances of achieving defined goals.[1] Such machines may be called AIs.AI technology is widely used throughout industry, government, and science. Some high-profile applications include advanced web search engines (e.g., Google Search); recommendation systems (used by YouTube, Amazon, and Netflix); interacting via human speech (e.g., Google Assistant, Siri, and Alexa); autonomous vehicles (e.g., Waymo); generative and creative tools (e.g., ChatGPT and AI art); and superhuman play and analysis in strategy games (e.g., chess and Go).[2] However, many AI applications are not perceived as AI: A lot of cutting edge AI has filtered into general applications, often without being called AI because once something becomes useful enough and common enough it's not labeled AI anymore.[3][4]Alan Turing was the first person to conduct substantial research in the field that he called machine intelligence.[5] Artificial intelligence was founded as an academic discipline in 1956.[6] The field went through multiple cycles of optimism,[7][8] followed by periods of disappointment and loss of funding, known as AI winter.[9][10] Funding and interest vastly increased after 2012 when deep learning surpassed all previous AI techniques,[11] and after 2017 with the transformer architecture.[12] This led to the AI boom of the early 2020s, with companies, universities, and laboratories overwhelmingly based in the United States pioneering significant advances in artificial intelligence.[13]\""
      ]
     },
     "execution_count": 3,
     "metadata": {},
     "output_type": "execute_result"
    }
   ],
   "source": [
    "paragraph"
   ]
  },
  {
   "cell_type": "markdown",
   "id": "7f08f5ee",
   "metadata": {},
   "source": [
    "# Tokenization"
   ]
  },
  {
   "cell_type": "code",
   "execution_count": 4,
   "id": "7e602a06",
   "metadata": {},
   "outputs": [
    {
     "name": "stderr",
     "output_type": "stream",
     "text": [
      "[nltk_data] Downloading package punkt to /home/cgiuser/nltk_data...\n",
      "[nltk_data]   Package punkt is already up-to-date!\n",
      "[nltk_data] Downloading package stopwords to\n",
      "[nltk_data]     /home/cgiuser/nltk_data...\n",
      "[nltk_data]   Package stopwords is already up-to-date!\n",
      "[nltk_data] Downloading package wordnet to /home/cgiuser/nltk_data...\n",
      "[nltk_data]   Package wordnet is already up-to-date!\n",
      "[nltk_data] Downloading package omw-1.4 to /home/cgiuser/nltk_data...\n",
      "[nltk_data]   Package omw-1.4 is already up-to-date!\n"
     ]
    }
   ],
   "source": [
    "nltk.download('punkt')\n",
    "nltk.download('stopwords')\n",
    "nltk.download('wordnet')\n",
    "nltk.download('omw-1.4')\n",
    "sentences = nltk.sent_tokenize(paragraph)"
   ]
  },
  {
   "cell_type": "code",
   "execution_count": 5,
   "id": "233cbde5",
   "metadata": {},
   "outputs": [
    {
     "name": "stdout",
     "output_type": "stream",
     "text": [
      "['Artificial intelligence (AI), in its broadest sense, is intelligence exhibited by machines, particularly computer systems.', 'It is a field of research in computer science that develops and studies methods and software that enable machines to perceive their environment and uses learning and intelligence to take actions that maximize their chances of achieving defined goals.', '[1] Such machines may be called AIs.AI technology is widely used throughout industry, government, and science.', 'Some high-profile applications include advanced web search engines (e.g., Google Search); recommendation systems (used by YouTube, Amazon, and Netflix); interacting via human speech (e.g., Google Assistant, Siri, and Alexa); autonomous vehicles (e.g., Waymo); generative and creative tools (e.g., ChatGPT and AI art); and superhuman play and analysis in strategy games (e.g., chess and Go).', \"[2] However, many AI applications are not perceived as AI: A lot of cutting edge AI has filtered into general applications, often without being called AI because once something becomes useful enough and common enough it's not labeled AI anymore.\", '[3][4]Alan Turing was the first person to conduct substantial research in the field that he called machine intelligence.', '[5] Artificial intelligence was founded as an academic discipline in 1956.', '[6] The field went through multiple cycles of optimism,[7][8] followed by periods of disappointment and loss of funding, known as AI winter.', '[9][10] Funding and interest vastly increased after 2012 when deep learning surpassed all previous AI techniques,[11] and after 2017 with the transformer architecture.', '[12] This led to the AI boom of the early 2020s, with companies, universities, and laboratories overwhelmingly based in the United States pioneering significant advances in artificial intelligence.', '[13]']\n"
     ]
    }
   ],
   "source": [
    "print(sentences)"
   ]
  },
  {
   "cell_type": "code",
   "execution_count": 6,
   "id": "4b37e3f7",
   "metadata": {},
   "outputs": [],
   "source": [
    "stemmer = PorterStemmer()"
   ]
  },
  {
   "cell_type": "code",
   "execution_count": 7,
   "id": "4f492d2f",
   "metadata": {},
   "outputs": [
    {
     "data": {
      "text/plain": [
       "'walk'"
      ]
     },
     "execution_count": 7,
     "metadata": {},
     "output_type": "execute_result"
    }
   ],
   "source": [
    "stemmer.stem('walking')"
   ]
  },
  {
   "cell_type": "code",
   "execution_count": 8,
   "id": "ce51dad2",
   "metadata": {},
   "outputs": [],
   "source": [
    "\n",
    "lemmatizer = WordNetLemmatizer()"
   ]
  },
  {
   "cell_type": "code",
   "execution_count": 9,
   "id": "cd862560",
   "metadata": {},
   "outputs": [
    {
     "data": {
      "text/plain": [
       "'going'"
      ]
     },
     "execution_count": 9,
     "metadata": {},
     "output_type": "execute_result"
    }
   ],
   "source": [
    "lemmatizer.lemmatize(\"going\")"
   ]
  },
  {
   "cell_type": "code",
   "execution_count": 10,
   "id": "62a9d510",
   "metadata": {},
   "outputs": [
    {
     "data": {
      "text/plain": [
       "'go'"
      ]
     },
     "execution_count": 10,
     "metadata": {},
     "output_type": "execute_result"
    }
   ],
   "source": [
    "lemmatizer.lemmatize(\"goes\")"
   ]
  },
  {
   "cell_type": "code",
   "execution_count": 11,
   "id": "b65ac370",
   "metadata": {},
   "outputs": [],
   "source": [
    "### Clean the corpus\n",
    "corpus = []\n",
    "for i in range(len(sentences)):\n",
    "    review = re.sub('[^a-zA-z]', ' ', sentences[i])\n",
    "    review=review.lower()\n",
    "    corpus.append(review)"
   ]
  },
  {
   "cell_type": "code",
   "execution_count": 12,
   "id": "4fc3caa2",
   "metadata": {},
   "outputs": [
    {
     "data": {
      "text/plain": [
       "['artificial intelligence  ai   in its broadest sense  is intelligence exhibited by machines  particularly computer systems ',\n",
       " 'it is a field of research in computer science that develops and studies methods and software that enable machines to perceive their environment and uses learning and intelligence to take actions that maximize their chances of achieving defined goals ',\n",
       " '[ ] such machines may be called ais ai technology is widely used throughout industry  government  and science ',\n",
       " 'some high profile applications include advanced web search engines  e g   google search   recommendation systems  used by youtube  amazon  and netflix   interacting via human speech  e g   google assistant  siri  and alexa   autonomous vehicles  e g   waymo   generative and creative tools  e g   chatgpt and ai art   and superhuman play and analysis in strategy games  e g   chess and go  ',\n",
       " '[ ] however  many ai applications are not perceived as ai  a lot of cutting edge ai has filtered into general applications  often without being called ai because once something becomes useful enough and common enough it s not labeled ai anymore ',\n",
       " '[ ][ ]alan turing was the first person to conduct substantial research in the field that he called machine intelligence ',\n",
       " '[ ] artificial intelligence was founded as an academic discipline in      ',\n",
       " '[ ] the field went through multiple cycles of optimism [ ][ ] followed by periods of disappointment and loss of funding  known as ai winter ',\n",
       " '[ ][  ] funding and interest vastly increased after      when deep learning surpassed all previous ai techniques [  ] and after      with the transformer architecture ',\n",
       " '[  ] this led to the ai boom of the early     s  with companies  universities  and laboratories overwhelmingly based in the united states pioneering significant advances in artificial intelligence ',\n",
       " '[  ]']"
      ]
     },
     "execution_count": 12,
     "metadata": {},
     "output_type": "execute_result"
    }
   ],
   "source": [
    "corpus"
   ]
  },
  {
   "cell_type": "code",
   "execution_count": 13,
   "id": "dcf53f95",
   "metadata": {
    "scrolled": true
   },
   "outputs": [
    {
     "name": "stdout",
     "output_type": "stream",
     "text": [
      "artificial\n",
      "intelligence\n",
      "ai\n",
      "broadest\n",
      "sense\n",
      "intelligence\n",
      "exhibited\n",
      "machine\n",
      "particularly\n",
      "computer\n",
      "system\n",
      "field\n",
      "research\n",
      "computer\n",
      "science\n",
      "develops\n",
      "study\n",
      "method\n",
      "software\n",
      "enable\n",
      "machine\n",
      "perceive\n",
      "environment\n",
      "us\n",
      "learning\n",
      "intelligence\n",
      "take\n",
      "action\n",
      "maximize\n",
      "chance\n",
      "achieving\n",
      "defined\n",
      "goal\n",
      "[\n",
      "]\n",
      "machine\n",
      "may\n",
      "called\n",
      "ai\n",
      "ai\n",
      "technology\n",
      "widely\n",
      "used\n",
      "throughout\n",
      "industry\n",
      "government\n",
      "science\n",
      "high\n",
      "profile\n",
      "application\n",
      "include\n",
      "advanced\n",
      "web\n",
      "search\n",
      "engine\n",
      "e\n",
      "g\n",
      "google\n",
      "search\n",
      "recommendation\n",
      "system\n",
      "used\n",
      "youtube\n",
      "amazon\n",
      "netflix\n",
      "interacting\n",
      "via\n",
      "human\n",
      "speech\n",
      "e\n",
      "g\n",
      "google\n",
      "assistant\n",
      "siri\n",
      "alexa\n",
      "autonomous\n",
      "vehicle\n",
      "e\n",
      "g\n",
      "waymo\n",
      "generative\n",
      "creative\n",
      "tool\n",
      "e\n",
      "g\n",
      "chatgpt\n",
      "ai\n",
      "art\n",
      "superhuman\n",
      "play\n",
      "analysis\n",
      "strategy\n",
      "game\n",
      "e\n",
      "g\n",
      "chess\n",
      "go\n",
      "[\n",
      "]\n",
      "however\n",
      "many\n",
      "ai\n",
      "application\n",
      "perceived\n",
      "ai\n",
      "lot\n",
      "cutting\n",
      "edge\n",
      "ai\n",
      "filtered\n",
      "general\n",
      "application\n",
      "often\n",
      "without\n",
      "called\n",
      "ai\n",
      "something\n",
      "becomes\n",
      "useful\n",
      "enough\n",
      "common\n",
      "enough\n",
      "labeled\n",
      "ai\n",
      "anymore\n",
      "[\n",
      "]\n",
      "[\n",
      "]\n",
      "alan\n",
      "turing\n",
      "first\n",
      "person\n",
      "conduct\n",
      "substantial\n",
      "research\n",
      "field\n",
      "called\n",
      "machine\n",
      "intelligence\n",
      "[\n",
      "]\n",
      "artificial\n",
      "intelligence\n",
      "founded\n",
      "academic\n",
      "discipline\n",
      "[\n",
      "]\n",
      "field\n",
      "went\n",
      "multiple\n",
      "cycle\n",
      "optimism\n",
      "[\n",
      "]\n",
      "[\n",
      "]\n",
      "followed\n",
      "period\n",
      "disappointment\n",
      "loss\n",
      "funding\n",
      "known\n",
      "ai\n",
      "winter\n",
      "[\n",
      "]\n",
      "[\n",
      "]\n",
      "funding\n",
      "interest\n",
      "vastly\n",
      "increased\n",
      "deep\n",
      "learning\n",
      "surpassed\n",
      "previous\n",
      "ai\n",
      "technique\n",
      "[\n",
      "]\n",
      "transformer\n",
      "architecture\n",
      "[\n",
      "]\n",
      "led\n",
      "ai\n",
      "boom\n",
      "early\n",
      "company\n",
      "university\n",
      "laboratory\n",
      "overwhelmingly\n",
      "based\n",
      "united\n",
      "state\n",
      "pioneering\n",
      "significant\n",
      "advance\n",
      "artificial\n",
      "intelligence\n",
      "[\n",
      "]\n"
     ]
    }
   ],
   "source": [
    "## stemming\n",
    "for i in corpus:\n",
    "    words = nltk.word_tokenize(i)\n",
    "    for word in words:\n",
    "        if word not in set(stopwords.words('english')):\n",
    "            #print(stemmer.stem(word))  ###################### Stemming\n",
    "            print(lemmatizer.lemmatize(word)) ############### Lemmatization"
   ]
  },
  {
   "cell_type": "code",
   "execution_count": 14,
   "id": "9b7dfe21",
   "metadata": {},
   "outputs": [],
   "source": [
    "### Apply stpowords and lemmatize\n",
    "\n",
    "corpus = []\n",
    "for i in range(len(sentences)):\n",
    "    review = re.sub('[^a-zA-Z]', ' ', sentences[i])\n",
    "    review = review.lower()\n",
    "    review = review.split()\n",
    "    review = [lemmatizer.lemmatize(word) for word in review if not word in set(stopwords.words('english'))]\n",
    "    review = ' '.join(review)\n",
    "    corpus.append(review)"
   ]
  },
  {
   "cell_type": "markdown",
   "id": "56798e52",
   "metadata": {},
   "source": [
    "# Bag of words"
   ]
  },
  {
   "cell_type": "code",
   "execution_count": 15,
   "id": "72b1cade",
   "metadata": {},
   "outputs": [],
   "source": [
    "\n",
    "# from sklearn.feature_extraction.text import CountVectorizer\n",
    "cv = CountVectorizer()"
   ]
  },
  {
   "cell_type": "code",
   "execution_count": 16,
   "id": "d6dda4f1",
   "metadata": {},
   "outputs": [],
   "source": [
    "X = cv.fit_transform(corpus)"
   ]
  },
  {
   "cell_type": "code",
   "execution_count": 17,
   "id": "b62d7943",
   "metadata": {
    "scrolled": true
   },
   "outputs": [
    {
     "data": {
      "text/plain": [
       "{'artificial': 14,\n",
       " 'intelligence': 63,\n",
       " 'ai': 5,\n",
       " 'broadest': 20,\n",
       " 'sense': 96,\n",
       " 'exhibited': 43,\n",
       " 'machine': 73,\n",
       " 'particularly': 83,\n",
       " 'computer': 27,\n",
       " 'system': 108,\n",
       " 'field': 44,\n",
       " 'research': 93,\n",
       " 'science': 94,\n",
       " 'develops': 34,\n",
       " 'study': 104,\n",
       " 'method': 77,\n",
       " 'software': 99,\n",
       " 'enable': 39,\n",
       " 'perceive': 84,\n",
       " 'environment': 42,\n",
       " 'us': 118,\n",
       " 'learning': 69,\n",
       " 'take': 109,\n",
       " 'action': 2,\n",
       " 'maximize': 75,\n",
       " 'chance': 22,\n",
       " 'achieving': 1,\n",
       " 'defined': 33,\n",
       " 'goal': 54,\n",
       " 'may': 76,\n",
       " 'called': 21,\n",
       " 'technology': 111,\n",
       " 'widely': 127,\n",
       " 'used': 119,\n",
       " 'throughout': 112,\n",
       " 'industry': 62,\n",
       " 'government': 56,\n",
       " 'high': 57,\n",
       " 'profile': 91,\n",
       " 'application': 11,\n",
       " 'include': 60,\n",
       " 'advanced': 4,\n",
       " 'web': 125,\n",
       " 'search': 95,\n",
       " 'engine': 40,\n",
       " 'google': 55,\n",
       " 'recommendation': 92,\n",
       " 'youtube': 130,\n",
       " 'amazon': 8,\n",
       " 'netflix': 79,\n",
       " 'interacting': 64,\n",
       " 'via': 123,\n",
       " 'human': 59,\n",
       " 'speech': 101,\n",
       " 'assistant': 15,\n",
       " 'siri': 98,\n",
       " 'alexa': 7,\n",
       " 'autonomous': 16,\n",
       " 'vehicle': 122,\n",
       " 'waymo': 124,\n",
       " 'generative': 52,\n",
       " 'creative': 29,\n",
       " 'tool': 113,\n",
       " 'chatgpt': 23,\n",
       " 'art': 13,\n",
       " 'superhuman': 106,\n",
       " 'play': 89,\n",
       " 'analysis': 9,\n",
       " 'strategy': 103,\n",
       " 'game': 50,\n",
       " 'chess': 24,\n",
       " 'go': 53,\n",
       " 'however': 58,\n",
       " 'many': 74,\n",
       " 'perceived': 85,\n",
       " 'lot': 72,\n",
       " 'cutting': 30,\n",
       " 'edge': 38,\n",
       " 'filtered': 45,\n",
       " 'general': 51,\n",
       " 'often': 80,\n",
       " 'without': 129,\n",
       " 'something': 100,\n",
       " 'becomes': 18,\n",
       " 'useful': 120,\n",
       " 'enough': 41,\n",
       " 'common': 25,\n",
       " 'labeled': 67,\n",
       " 'anymore': 10,\n",
       " 'alan': 6,\n",
       " 'turing': 115,\n",
       " 'first': 46,\n",
       " 'person': 87,\n",
       " 'conduct': 28,\n",
       " 'substantial': 105,\n",
       " 'founded': 48,\n",
       " 'academic': 0,\n",
       " 'discipline': 36,\n",
       " 'went': 126,\n",
       " 'multiple': 78,\n",
       " 'cycle': 31,\n",
       " 'optimism': 81,\n",
       " 'followed': 47,\n",
       " 'period': 86,\n",
       " 'disappointment': 35,\n",
       " 'loss': 71,\n",
       " 'funding': 49,\n",
       " 'known': 66,\n",
       " 'winter': 128,\n",
       " 'interest': 65,\n",
       " 'vastly': 121,\n",
       " 'increased': 61,\n",
       " 'deep': 32,\n",
       " 'surpassed': 107,\n",
       " 'previous': 90,\n",
       " 'technique': 110,\n",
       " 'transformer': 114,\n",
       " 'architecture': 12,\n",
       " 'led': 70,\n",
       " 'boom': 19,\n",
       " 'early': 37,\n",
       " 'company': 26,\n",
       " 'university': 117,\n",
       " 'laboratory': 68,\n",
       " 'overwhelmingly': 82,\n",
       " 'based': 17,\n",
       " 'united': 116,\n",
       " 'state': 102,\n",
       " 'pioneering': 88,\n",
       " 'significant': 97,\n",
       " 'advance': 3}"
      ]
     },
     "execution_count": 17,
     "metadata": {},
     "output_type": "execute_result"
    }
   ],
   "source": [
    "cv.vocabulary_"
   ]
  },
  {
   "cell_type": "code",
   "execution_count": 18,
   "id": "45200cee",
   "metadata": {},
   "outputs": [],
   "source": [
    "### Considers only trigram\n",
    "cv = CountVectorizer(binary=True,ngram_range=(3,3))"
   ]
  },
  {
   "cell_type": "code",
   "execution_count": 19,
   "id": "0c2981be",
   "metadata": {
    "scrolled": true
   },
   "outputs": [
    {
     "data": {
      "text/plain": [
       "{'artificial intelligence ai': 22,\n",
       " 'intelligence ai broadest': 73,\n",
       " 'ai broadest sense': 8,\n",
       " 'broadest sense intelligence': 29,\n",
       " 'sense intelligence exhibited': 114,\n",
       " 'intelligence exhibited machine': 74,\n",
       " 'exhibited machine particularly': 52,\n",
       " 'machine particularly computer': 88,\n",
       " 'particularly computer system': 99,\n",
       " 'field research computer': 54,\n",
       " 'research computer science': 109,\n",
       " 'computer science develops': 37,\n",
       " 'science develops study': 111,\n",
       " 'develops study method': 43,\n",
       " 'study method software': 122,\n",
       " 'method software enable': 93,\n",
       " 'software enable machine': 117,\n",
       " 'enable machine perceive': 47,\n",
       " 'machine perceive environment': 89,\n",
       " 'perceive environment us': 100,\n",
       " 'environment us learning': 51,\n",
       " 'us learning intelligence': 135,\n",
       " 'learning intelligence take': 82,\n",
       " 'intelligence take action': 76,\n",
       " 'take action maximize': 127,\n",
       " 'action maximize chance': 1,\n",
       " 'maximize chance achieving': 91,\n",
       " 'chance achieving defined': 33,\n",
       " 'achieving defined goal': 0,\n",
       " 'machine may called': 87,\n",
       " 'may called ai': 92,\n",
       " 'called ai ai': 30,\n",
       " 'ai ai technology': 4,\n",
       " 'ai technology widely': 13,\n",
       " 'technology widely used': 129,\n",
       " 'widely used throughout': 145,\n",
       " 'used throughout industry': 136,\n",
       " 'throughout industry government': 130,\n",
       " 'industry government science': 72,\n",
       " 'high profile application': 67,\n",
       " 'profile application include': 107,\n",
       " 'application include advanced': 18,\n",
       " 'include advanced web': 70,\n",
       " 'advanced web search': 3,\n",
       " 'web search engine': 143,\n",
       " 'search engine google': 112,\n",
       " 'engine google search': 48,\n",
       " 'google search recommendation': 66,\n",
       " 'search recommendation system': 113,\n",
       " 'recommendation system used': 108,\n",
       " 'system used youtube': 126,\n",
       " 'used youtube amazon': 137,\n",
       " 'youtube amazon netflix': 147,\n",
       " 'amazon netflix interacting': 16,\n",
       " 'netflix interacting via': 95,\n",
       " 'interacting via human': 77,\n",
       " 'via human speech': 141,\n",
       " 'human speech google': 69,\n",
       " 'speech google assistant': 119,\n",
       " 'google assistant siri': 65,\n",
       " 'assistant siri alexa': 24,\n",
       " 'siri alexa autonomous': 116,\n",
       " 'alexa autonomous vehicle': 15,\n",
       " 'autonomous vehicle waymo': 25,\n",
       " 'vehicle waymo generative': 140,\n",
       " 'waymo generative creative': 142,\n",
       " 'generative creative tool': 64,\n",
       " 'creative tool chatgpt': 39,\n",
       " 'tool chatgpt ai': 131,\n",
       " 'chatgpt ai art': 34,\n",
       " 'ai art superhuman': 6,\n",
       " 'art superhuman play': 21,\n",
       " 'superhuman play analysis': 124,\n",
       " 'play analysis strategy': 105,\n",
       " 'analysis strategy game': 17,\n",
       " 'strategy game chess': 121,\n",
       " 'game chess go': 62,\n",
       " 'however many ai': 68,\n",
       " 'many ai application': 90,\n",
       " 'ai application perceived': 5,\n",
       " 'application perceived ai': 20,\n",
       " 'perceived ai lot': 101,\n",
       " 'ai lot cutting': 10,\n",
       " 'lot cutting edge': 86,\n",
       " 'cutting edge ai': 40,\n",
       " 'edge ai filtered': 46,\n",
       " 'ai filtered general': 9,\n",
       " 'filtered general application': 56,\n",
       " 'general application often': 63,\n",
       " 'application often without': 19,\n",
       " 'often without called': 96,\n",
       " 'without called ai': 146,\n",
       " 'called ai something': 31,\n",
       " 'ai something becomes': 11,\n",
       " 'something becomes useful': 118,\n",
       " 'becomes useful enough': 27,\n",
       " 'useful enough common': 138,\n",
       " 'enough common enough': 49,\n",
       " 'common enough labeled': 35,\n",
       " 'enough labeled ai': 50,\n",
       " 'labeled ai anymore': 80,\n",
       " 'alan turing first': 14,\n",
       " 'turing first person': 132,\n",
       " 'first person conduct': 57,\n",
       " 'person conduct substantial': 103,\n",
       " 'conduct substantial research': 38,\n",
       " 'substantial research field': 123,\n",
       " 'research field called': 110,\n",
       " 'field called machine': 53,\n",
       " 'called machine intelligence': 32,\n",
       " 'artificial intelligence founded': 23,\n",
       " 'intelligence founded academic': 75,\n",
       " 'founded academic discipline': 59,\n",
       " 'field went multiple': 55,\n",
       " 'went multiple cycle': 144,\n",
       " 'multiple cycle optimism': 94,\n",
       " 'cycle optimism followed': 41,\n",
       " 'optimism followed period': 97,\n",
       " 'followed period disappointment': 58,\n",
       " 'period disappointment loss': 102,\n",
       " 'disappointment loss funding': 44,\n",
       " 'loss funding known': 85,\n",
       " 'funding known ai': 61,\n",
       " 'known ai winter': 79,\n",
       " 'funding interest vastly': 60,\n",
       " 'interest vastly increased': 78,\n",
       " 'vastly increased deep': 139,\n",
       " 'increased deep learning': 71,\n",
       " 'deep learning surpassed': 42,\n",
       " 'learning surpassed previous': 83,\n",
       " 'surpassed previous ai': 125,\n",
       " 'previous ai technique': 106,\n",
       " 'ai technique transformer': 12,\n",
       " 'technique transformer architecture': 128,\n",
       " 'led ai boom': 84,\n",
       " 'ai boom early': 7,\n",
       " 'boom early company': 28,\n",
       " 'early company university': 45,\n",
       " 'company university laboratory': 36,\n",
       " 'university laboratory overwhelmingly': 134,\n",
       " 'laboratory overwhelmingly based': 81,\n",
       " 'overwhelmingly based united': 98,\n",
       " 'based united state': 26,\n",
       " 'united state pioneering': 133,\n",
       " 'state pioneering significant': 120,\n",
       " 'pioneering significant advance': 104,\n",
       " 'significant advance artificial': 115,\n",
       " 'advance artificial intelligence': 2}"
      ]
     },
     "execution_count": 19,
     "metadata": {},
     "output_type": "execute_result"
    }
   ],
   "source": [
    "X = cv.fit_transform(corpus)\n",
    "cv.vocabulary_"
   ]
  },
  {
   "cell_type": "code",
   "execution_count": 20,
   "id": "502a079f",
   "metadata": {},
   "outputs": [
    {
     "data": {
      "text/plain": [
       "{'artificial intelligence': 47,\n",
       " 'intelligence ai': 151,\n",
       " 'ai broadest': 18,\n",
       " 'broadest sense': 60,\n",
       " 'sense intelligence': 234,\n",
       " 'intelligence exhibited': 153,\n",
       " 'exhibited machine': 108,\n",
       " 'machine particularly': 182,\n",
       " 'particularly computer': 204,\n",
       " 'computer system': 78,\n",
       " 'artificial intelligence ai': 48,\n",
       " 'intelligence ai broadest': 152,\n",
       " 'ai broadest sense': 19,\n",
       " 'broadest sense intelligence': 61,\n",
       " 'sense intelligence exhibited': 235,\n",
       " 'intelligence exhibited machine': 154,\n",
       " 'exhibited machine particularly': 109,\n",
       " 'machine particularly computer': 183,\n",
       " 'particularly computer system': 205,\n",
       " 'field research': 112,\n",
       " 'research computer': 224,\n",
       " 'computer science': 76,\n",
       " 'science develops': 228,\n",
       " 'develops study': 90,\n",
       " 'study method': 250,\n",
       " 'method software': 192,\n",
       " 'software enable': 240,\n",
       " 'enable machine': 98,\n",
       " 'machine perceive': 184,\n",
       " 'perceive environment': 206,\n",
       " 'environment us': 106,\n",
       " 'us learning': 277,\n",
       " 'learning intelligence': 169,\n",
       " 'intelligence take': 157,\n",
       " 'take action': 260,\n",
       " 'action maximize': 3,\n",
       " 'maximize chance': 188,\n",
       " 'chance achieving': 67,\n",
       " 'achieving defined': 1,\n",
       " 'defined goal': 89,\n",
       " 'field research computer': 113,\n",
       " 'research computer science': 225,\n",
       " 'computer science develops': 77,\n",
       " 'science develops study': 229,\n",
       " 'develops study method': 91,\n",
       " 'study method software': 251,\n",
       " 'method software enable': 193,\n",
       " 'software enable machine': 241,\n",
       " 'enable machine perceive': 99,\n",
       " 'machine perceive environment': 185,\n",
       " 'perceive environment us': 207,\n",
       " 'environment us learning': 107,\n",
       " 'us learning intelligence': 278,\n",
       " 'learning intelligence take': 170,\n",
       " 'intelligence take action': 158,\n",
       " 'take action maximize': 261,\n",
       " 'action maximize chance': 4,\n",
       " 'maximize chance achieving': 189,\n",
       " 'chance achieving defined': 68,\n",
       " 'achieving defined goal': 2,\n",
       " 'machine may': 180,\n",
       " 'may called': 190,\n",
       " 'called ai': 62,\n",
       " 'ai ai': 9,\n",
       " 'ai technology': 28,\n",
       " 'technology widely': 264,\n",
       " 'widely used': 297,\n",
       " 'used throughout': 279,\n",
       " 'throughout industry': 266,\n",
       " 'industry government': 149,\n",
       " 'government science': 138,\n",
       " 'machine may called': 181,\n",
       " 'may called ai': 191,\n",
       " 'called ai ai': 63,\n",
       " 'ai ai technology': 10,\n",
       " 'ai technology widely': 29,\n",
       " 'technology widely used': 265,\n",
       " 'widely used throughout': 298,\n",
       " 'used throughout industry': 280,\n",
       " 'throughout industry government': 267,\n",
       " 'industry government science': 150,\n",
       " 'high profile': 139,\n",
       " 'profile application': 220,\n",
       " 'application include': 39,\n",
       " 'include advanced': 145,\n",
       " 'advanced web': 7,\n",
       " 'web search': 293,\n",
       " 'search engine': 230,\n",
       " 'engine google': 100,\n",
       " 'google search': 136,\n",
       " 'search recommendation': 232,\n",
       " 'recommendation system': 222,\n",
       " 'system used': 258,\n",
       " 'used youtube': 281,\n",
       " 'youtube amazon': 301,\n",
       " 'amazon netflix': 35,\n",
       " 'netflix interacting': 196,\n",
       " 'interacting via': 159,\n",
       " 'via human': 289,\n",
       " 'human speech': 143,\n",
       " 'speech google': 244,\n",
       " 'google assistant': 134,\n",
       " 'assistant siri': 50,\n",
       " 'siri alexa': 238,\n",
       " 'alexa autonomous': 33,\n",
       " 'autonomous vehicle': 52,\n",
       " 'vehicle waymo': 287,\n",
       " 'waymo generative': 291,\n",
       " 'generative creative': 132,\n",
       " 'creative tool': 81,\n",
       " 'tool chatgpt': 268,\n",
       " 'chatgpt ai': 69,\n",
       " 'ai art': 14,\n",
       " 'art superhuman': 45,\n",
       " 'superhuman play': 254,\n",
       " 'play analysis': 216,\n",
       " 'analysis strategy': 37,\n",
       " 'strategy game': 248,\n",
       " 'game chess': 128,\n",
       " 'chess go': 71,\n",
       " 'high profile application': 140,\n",
       " 'profile application include': 221,\n",
       " 'application include advanced': 40,\n",
       " 'include advanced web': 146,\n",
       " 'advanced web search': 8,\n",
       " 'web search engine': 294,\n",
       " 'search engine google': 231,\n",
       " 'engine google search': 101,\n",
       " 'google search recommendation': 137,\n",
       " 'search recommendation system': 233,\n",
       " 'recommendation system used': 223,\n",
       " 'system used youtube': 259,\n",
       " 'used youtube amazon': 282,\n",
       " 'youtube amazon netflix': 302,\n",
       " 'amazon netflix interacting': 36,\n",
       " 'netflix interacting via': 197,\n",
       " 'interacting via human': 160,\n",
       " 'via human speech': 290,\n",
       " 'human speech google': 144,\n",
       " 'speech google assistant': 245,\n",
       " 'google assistant siri': 135,\n",
       " 'assistant siri alexa': 51,\n",
       " 'siri alexa autonomous': 239,\n",
       " 'alexa autonomous vehicle': 34,\n",
       " 'autonomous vehicle waymo': 53,\n",
       " 'vehicle waymo generative': 288,\n",
       " 'waymo generative creative': 292,\n",
       " 'generative creative tool': 133,\n",
       " 'creative tool chatgpt': 82,\n",
       " 'tool chatgpt ai': 269,\n",
       " 'chatgpt ai art': 70,\n",
       " 'ai art superhuman': 15,\n",
       " 'art superhuman play': 46,\n",
       " 'superhuman play analysis': 255,\n",
       " 'play analysis strategy': 217,\n",
       " 'analysis strategy game': 38,\n",
       " 'strategy game chess': 249,\n",
       " 'game chess go': 129,\n",
       " 'however many': 141,\n",
       " 'many ai': 186,\n",
       " 'ai application': 12,\n",
       " 'application perceived': 43,\n",
       " 'perceived ai': 208,\n",
       " 'ai lot': 22,\n",
       " 'lot cutting': 177,\n",
       " 'cutting edge': 83,\n",
       " 'edge ai': 96,\n",
       " 'ai filtered': 20,\n",
       " 'filtered general': 116,\n",
       " 'general application': 130,\n",
       " 'application often': 41,\n",
       " 'often without': 198,\n",
       " 'without called': 299,\n",
       " 'ai something': 24,\n",
       " 'something becomes': 242,\n",
       " 'becomes useful': 56,\n",
       " 'useful enough': 283,\n",
       " 'enough common': 102,\n",
       " 'common enough': 72,\n",
       " 'enough labeled': 104,\n",
       " 'labeled ai': 165,\n",
       " 'ai anymore': 11,\n",
       " 'however many ai': 142,\n",
       " 'many ai application': 187,\n",
       " 'ai application perceived': 13,\n",
       " 'application perceived ai': 44,\n",
       " 'perceived ai lot': 209,\n",
       " 'ai lot cutting': 23,\n",
       " 'lot cutting edge': 178,\n",
       " 'cutting edge ai': 84,\n",
       " 'edge ai filtered': 97,\n",
       " 'ai filtered general': 21,\n",
       " 'filtered general application': 117,\n",
       " 'general application often': 131,\n",
       " 'application often without': 42,\n",
       " 'often without called': 199,\n",
       " 'without called ai': 300,\n",
       " 'called ai something': 64,\n",
       " 'ai something becomes': 25,\n",
       " 'something becomes useful': 243,\n",
       " 'becomes useful enough': 57,\n",
       " 'useful enough common': 284,\n",
       " 'enough common enough': 103,\n",
       " 'common enough labeled': 73,\n",
       " 'enough labeled ai': 105,\n",
       " 'labeled ai anymore': 166,\n",
       " 'alan turing': 31,\n",
       " 'turing first': 271,\n",
       " 'first person': 118,\n",
       " 'person conduct': 212,\n",
       " 'conduct substantial': 79,\n",
       " 'substantial research': 252,\n",
       " 'research field': 226,\n",
       " 'field called': 110,\n",
       " 'called machine': 65,\n",
       " 'machine intelligence': 179,\n",
       " 'alan turing first': 32,\n",
       " 'turing first person': 272,\n",
       " 'first person conduct': 119,\n",
       " 'person conduct substantial': 213,\n",
       " 'conduct substantial research': 80,\n",
       " 'substantial research field': 253,\n",
       " 'research field called': 227,\n",
       " 'field called machine': 111,\n",
       " 'called machine intelligence': 66,\n",
       " 'intelligence founded': 155,\n",
       " 'founded academic': 122,\n",
       " 'academic discipline': 0,\n",
       " 'artificial intelligence founded': 49,\n",
       " 'intelligence founded academic': 156,\n",
       " 'founded academic discipline': 123,\n",
       " 'field went': 114,\n",
       " 'went multiple': 295,\n",
       " 'multiple cycle': 194,\n",
       " 'cycle optimism': 85,\n",
       " 'optimism followed': 200,\n",
       " 'followed period': 120,\n",
       " 'period disappointment': 210,\n",
       " 'disappointment loss': 92,\n",
       " 'loss funding': 175,\n",
       " 'funding known': 126,\n",
       " 'known ai': 163,\n",
       " 'ai winter': 30,\n",
       " 'field went multiple': 115,\n",
       " 'went multiple cycle': 296,\n",
       " 'multiple cycle optimism': 195,\n",
       " 'cycle optimism followed': 86,\n",
       " 'optimism followed period': 201,\n",
       " 'followed period disappointment': 121,\n",
       " 'period disappointment loss': 211,\n",
       " 'disappointment loss funding': 93,\n",
       " 'loss funding known': 176,\n",
       " 'funding known ai': 127,\n",
       " 'known ai winter': 164,\n",
       " 'funding interest': 124,\n",
       " 'interest vastly': 161,\n",
       " 'vastly increased': 285,\n",
       " 'increased deep': 147,\n",
       " 'deep learning': 87,\n",
       " 'learning surpassed': 171,\n",
       " 'surpassed previous': 256,\n",
       " 'previous ai': 218,\n",
       " 'ai technique': 26,\n",
       " 'technique transformer': 262,\n",
       " 'transformer architecture': 270,\n",
       " 'funding interest vastly': 125,\n",
       " 'interest vastly increased': 162,\n",
       " 'vastly increased deep': 286,\n",
       " 'increased deep learning': 148,\n",
       " 'deep learning surpassed': 88,\n",
       " 'learning surpassed previous': 172,\n",
       " 'surpassed previous ai': 257,\n",
       " 'previous ai technique': 219,\n",
       " 'ai technique transformer': 27,\n",
       " 'technique transformer architecture': 263,\n",
       " 'led ai': 173,\n",
       " 'ai boom': 16,\n",
       " 'boom early': 58,\n",
       " 'early company': 94,\n",
       " 'company university': 74,\n",
       " 'university laboratory': 275,\n",
       " 'laboratory overwhelmingly': 167,\n",
       " 'overwhelmingly based': 202,\n",
       " 'based united': 54,\n",
       " 'united state': 273,\n",
       " 'state pioneering': 246,\n",
       " 'pioneering significant': 214,\n",
       " 'significant advance': 236,\n",
       " 'advance artificial': 5,\n",
       " 'led ai boom': 174,\n",
       " 'ai boom early': 17,\n",
       " 'boom early company': 59,\n",
       " 'early company university': 95,\n",
       " 'company university laboratory': 75,\n",
       " 'university laboratory overwhelmingly': 276,\n",
       " 'laboratory overwhelmingly based': 168,\n",
       " 'overwhelmingly based united': 203,\n",
       " 'based united state': 55,\n",
       " 'united state pioneering': 274,\n",
       " 'state pioneering significant': 247,\n",
       " 'pioneering significant advance': 215,\n",
       " 'significant advance artificial': 237,\n",
       " 'advance artificial intelligence': 6}"
      ]
     },
     "execution_count": 20,
     "metadata": {},
     "output_type": "execute_result"
    }
   ],
   "source": [
    "### Both bigram and trigram\n",
    "cv = CountVectorizer(binary=True,ngram_range=(2,3))\n",
    "X = cv.fit_transform(corpus)\n",
    "cv.vocabulary_"
   ]
  },
  {
   "cell_type": "code",
   "execution_count": 21,
   "id": "43b88e7c",
   "metadata": {},
   "outputs": [
    {
     "data": {
      "text/plain": [
       "array([[0, 0, 0, 0, 0, 0, 0, 0, 0, 0, 0, 0, 0, 0, 0, 0, 0, 0, 1, 1, 0, 0,\n",
       "        0, 0, 0, 0, 0, 0, 0, 0, 0, 0, 0, 0, 0, 0, 0, 0, 0, 0, 0, 0, 0, 0,\n",
       "        0, 0, 0, 1, 1, 0, 0, 0, 0, 0, 0, 0, 0, 0, 0, 0, 1, 1, 0, 0, 0, 0,\n",
       "        0, 0, 0, 0, 0, 0, 0, 0, 0, 0, 0, 0, 1, 0, 0, 0, 0, 0, 0, 0, 0, 0,\n",
       "        0, 0, 0, 0, 0, 0, 0, 0, 0, 0, 0, 0, 0, 0, 0, 0, 0, 0, 0, 0, 1, 1,\n",
       "        0, 0, 0, 0, 0, 0, 0, 0, 0, 0, 0, 0, 0, 0, 0, 0, 0, 0, 0, 0, 0, 0,\n",
       "        0, 0, 0, 0, 0, 0, 0, 0, 0, 0, 0, 0, 0, 0, 0, 0, 0, 0, 0, 1, 1, 1,\n",
       "        1, 0, 0, 0, 0, 0, 0, 0, 0, 0, 0, 0, 0, 0, 0, 0, 0, 0, 0, 0, 0, 0,\n",
       "        0, 0, 0, 0, 0, 0, 1, 1, 0, 0, 0, 0, 0, 0, 0, 0, 0, 0, 0, 0, 0, 0,\n",
       "        0, 0, 0, 0, 0, 0, 1, 1, 0, 0, 0, 0, 0, 0, 0, 0, 0, 0, 0, 0, 0, 0,\n",
       "        0, 0, 0, 0, 0, 0, 0, 0, 0, 0, 0, 0, 0, 0, 1, 1, 0, 0, 0, 0, 0, 0,\n",
       "        0, 0, 0, 0, 0, 0, 0, 0, 0, 0, 0, 0, 0, 0, 0, 0, 0, 0, 0, 0, 0, 0,\n",
       "        0, 0, 0, 0, 0, 0, 0, 0, 0, 0, 0, 0, 0, 0, 0, 0, 0, 0, 0, 0, 0, 0,\n",
       "        0, 0, 0, 0, 0, 0, 0, 0, 0, 0, 0, 0, 0, 0, 0, 0, 0]])"
      ]
     },
     "execution_count": 21,
     "metadata": {},
     "output_type": "execute_result"
    }
   ],
   "source": [
    "X[0].toarray()"
   ]
  },
  {
   "cell_type": "markdown",
   "id": "6ce102b1",
   "metadata": {},
   "source": [
    "## TF-IDF"
   ]
  },
  {
   "cell_type": "code",
   "execution_count": 22,
   "id": "c3426826",
   "metadata": {},
   "outputs": [],
   "source": [
    "# from sklearn.feature_extraction.text import TfidfVectorizer\n",
    "cv = TfidfVectorizer()\n",
    "X = cv.fit_transform(corpus)"
   ]
  },
  {
   "cell_type": "code",
   "execution_count": 23,
   "id": "b202ccf0",
   "metadata": {},
   "outputs": [
    {
     "data": {
      "text/plain": [
       "'artificial intelligence ai broadest sense intelligence exhibited machine particularly computer system'"
      ]
     },
     "execution_count": 23,
     "metadata": {},
     "output_type": "execute_result"
    }
   ],
   "source": [
    "corpus[0]"
   ]
  },
  {
   "cell_type": "code",
   "execution_count": 24,
   "id": "d9fdf12c",
   "metadata": {},
   "outputs": [
    {
     "data": {
      "text/plain": [
       "array([[0.        , 0.        , 0.        , 0.        , 0.        ,\n",
       "        0.17578154, 0.        , 0.        , 0.        , 0.        ,\n",
       "        0.        , 0.        , 0.        , 0.        , 0.26247347,\n",
       "        0.        , 0.        , 0.        , 0.        , 0.        ,\n",
       "        0.3491654 , 0.        , 0.        , 0.        , 0.        ,\n",
       "        0.        , 0.        , 0.29845387, 0.        , 0.        ,\n",
       "        0.        , 0.        , 0.        , 0.        , 0.        ,\n",
       "        0.        , 0.        , 0.        , 0.        , 0.        ,\n",
       "        0.        , 0.        , 0.        , 0.3491654 , 0.        ,\n",
       "        0.        , 0.        , 0.        , 0.        , 0.        ,\n",
       "        0.        , 0.        , 0.        , 0.        , 0.        ,\n",
       "        0.        , 0.        , 0.        , 0.        , 0.        ,\n",
       "        0.        , 0.        , 0.        , 0.42352389, 0.        ,\n",
       "        0.        , 0.        , 0.        , 0.        , 0.        ,\n",
       "        0.        , 0.        , 0.        , 0.23456491, 0.        ,\n",
       "        0.        , 0.        , 0.        , 0.        , 0.        ,\n",
       "        0.        , 0.        , 0.        , 0.3491654 , 0.        ,\n",
       "        0.        , 0.        , 0.        , 0.        , 0.        ,\n",
       "        0.        , 0.        , 0.        , 0.        , 0.        ,\n",
       "        0.        , 0.3491654 , 0.        , 0.        , 0.        ,\n",
       "        0.        , 0.        , 0.        , 0.        , 0.        ,\n",
       "        0.        , 0.        , 0.        , 0.29845387, 0.        ,\n",
       "        0.        , 0.        , 0.        , 0.        , 0.        ,\n",
       "        0.        , 0.        , 0.        , 0.        , 0.        ,\n",
       "        0.        , 0.        , 0.        , 0.        , 0.        ,\n",
       "        0.        , 0.        , 0.        , 0.        , 0.        ,\n",
       "        0.        ]])"
      ]
     },
     "execution_count": 24,
     "metadata": {},
     "output_type": "execute_result"
    }
   ],
   "source": [
    "X[0].toarray()"
   ]
  },
  {
   "cell_type": "markdown",
   "id": "a0fa8aac",
   "metadata": {},
   "source": [
    "# Word2Vec"
   ]
  },
  {
   "cell_type": "code",
   "execution_count": 25,
   "id": "cf9fa370",
   "metadata": {},
   "outputs": [],
   "source": [
    "import gensim\n",
    "from gensim.models import word2vec, KeyedVectors\n",
    "import gensim.downloader as api"
   ]
  },
  {
   "cell_type": "code",
   "execution_count": 30,
   "id": "b7114949",
   "metadata": {
    "scrolled": true
   },
   "outputs": [
    {
     "name": "stdout",
     "output_type": "stream",
     "text": [
      "[--------------------------------------------------] 1.4% 23.4/1662.8MB downloaded"
     ]
    },
    {
     "name": "stderr",
     "output_type": "stream",
     "text": [
      "IOPub message rate exceeded.\n",
      "The notebook server will temporarily stop sending output\n",
      "to the client in order to avoid crashing it.\n",
      "To change this limit, set the config variable\n",
      "`--NotebookApp.iopub_msg_rate_limit`.\n",
      "\n",
      "Current values:\n",
      "NotebookApp.iopub_msg_rate_limit=1000.0 (msgs/sec)\n",
      "NotebookApp.rate_limit_window=3.0 (secs)\n",
      "\n"
     ]
    },
    {
     "name": "stdout",
     "output_type": "stream",
     "text": [
      "[=-------------------------------------------------] 3.2% 53.2/1662.8MB downloaded"
     ]
    },
    {
     "name": "stderr",
     "output_type": "stream",
     "text": [
      "IOPub message rate exceeded.\n",
      "The notebook server will temporarily stop sending output\n",
      "to the client in order to avoid crashing it.\n",
      "To change this limit, set the config variable\n",
      "`--NotebookApp.iopub_msg_rate_limit`.\n",
      "\n",
      "Current values:\n",
      "NotebookApp.iopub_msg_rate_limit=1000.0 (msgs/sec)\n",
      "NotebookApp.rate_limit_window=3.0 (secs)\n",
      "\n"
     ]
    },
    {
     "name": "stdout",
     "output_type": "stream",
     "text": [
      "[==------------------------------------------------] 5.8% 96.1/1662.8MB downloaded"
     ]
    },
    {
     "name": "stderr",
     "output_type": "stream",
     "text": [
      "IOPub message rate exceeded.\n",
      "The notebook server will temporarily stop sending output\n",
      "to the client in order to avoid crashing it.\n",
      "To change this limit, set the config variable\n",
      "`--NotebookApp.iopub_msg_rate_limit`.\n",
      "\n",
      "Current values:\n",
      "NotebookApp.iopub_msg_rate_limit=1000.0 (msgs/sec)\n",
      "NotebookApp.rate_limit_window=3.0 (secs)\n",
      "\n"
     ]
    },
    {
     "name": "stdout",
     "output_type": "stream",
     "text": [
      "[===-----------------------------------------------] 7.6% 125.8/1662.8MB downloaded"
     ]
    },
    {
     "name": "stderr",
     "output_type": "stream",
     "text": [
      "IOPub message rate exceeded.\n",
      "The notebook server will temporarily stop sending output\n",
      "to the client in order to avoid crashing it.\n",
      "To change this limit, set the config variable\n",
      "`--NotebookApp.iopub_msg_rate_limit`.\n",
      "\n",
      "Current values:\n",
      "NotebookApp.iopub_msg_rate_limit=1000.0 (msgs/sec)\n",
      "NotebookApp.rate_limit_window=3.0 (secs)\n",
      "\n"
     ]
    },
    {
     "name": "stdout",
     "output_type": "stream",
     "text": [
      "[====----------------------------------------------] 9.3% 155.4/1662.8MB downloaded"
     ]
    },
    {
     "name": "stderr",
     "output_type": "stream",
     "text": [
      "IOPub message rate exceeded.\n",
      "The notebook server will temporarily stop sending output\n",
      "to the client in order to avoid crashing it.\n",
      "To change this limit, set the config variable\n",
      "`--NotebookApp.iopub_msg_rate_limit`.\n",
      "\n",
      "Current values:\n",
      "NotebookApp.iopub_msg_rate_limit=1000.0 (msgs/sec)\n",
      "NotebookApp.rate_limit_window=3.0 (secs)\n",
      "\n"
     ]
    },
    {
     "name": "stdout",
     "output_type": "stream",
     "text": [
      "[=====---------------------------------------------] 11.1% 185.2/1662.8MB downloaded"
     ]
    },
    {
     "name": "stderr",
     "output_type": "stream",
     "text": [
      "IOPub message rate exceeded.\n",
      "The notebook server will temporarily stop sending output\n",
      "to the client in order to avoid crashing it.\n",
      "To change this limit, set the config variable\n",
      "`--NotebookApp.iopub_msg_rate_limit`.\n",
      "\n",
      "Current values:\n",
      "NotebookApp.iopub_msg_rate_limit=1000.0 (msgs/sec)\n",
      "NotebookApp.rate_limit_window=3.0 (secs)\n",
      "\n"
     ]
    },
    {
     "name": "stdout",
     "output_type": "stream",
     "text": [
      "[======--------------------------------------------] 12.9% 214.6/1662.8MB downloaded"
     ]
    },
    {
     "name": "stderr",
     "output_type": "stream",
     "text": [
      "IOPub message rate exceeded.\n",
      "The notebook server will temporarily stop sending output\n",
      "to the client in order to avoid crashing it.\n",
      "To change this limit, set the config variable\n",
      "`--NotebookApp.iopub_msg_rate_limit`.\n",
      "\n",
      "Current values:\n",
      "NotebookApp.iopub_msg_rate_limit=1000.0 (msgs/sec)\n",
      "NotebookApp.rate_limit_window=3.0 (secs)\n",
      "\n"
     ]
    },
    {
     "name": "stdout",
     "output_type": "stream",
     "text": [
      "[=======-------------------------------------------] 14.7% 244.3/1662.8MB downloaded"
     ]
    },
    {
     "name": "stderr",
     "output_type": "stream",
     "text": [
      "IOPub message rate exceeded.\n",
      "The notebook server will temporarily stop sending output\n",
      "to the client in order to avoid crashing it.\n",
      "To change this limit, set the config variable\n",
      "`--NotebookApp.iopub_msg_rate_limit`.\n",
      "\n",
      "Current values:\n",
      "NotebookApp.iopub_msg_rate_limit=1000.0 (msgs/sec)\n",
      "NotebookApp.rate_limit_window=3.0 (secs)\n",
      "\n"
     ]
    },
    {
     "name": "stdout",
     "output_type": "stream",
     "text": [
      "[========------------------------------------------] 16.5% 274.0/1662.8MB downloaded"
     ]
    },
    {
     "name": "stderr",
     "output_type": "stream",
     "text": [
      "IOPub message rate exceeded.\n",
      "The notebook server will temporarily stop sending output\n",
      "to the client in order to avoid crashing it.\n",
      "To change this limit, set the config variable\n",
      "`--NotebookApp.iopub_msg_rate_limit`.\n",
      "\n",
      "Current values:\n",
      "NotebookApp.iopub_msg_rate_limit=1000.0 (msgs/sec)\n",
      "NotebookApp.rate_limit_window=3.0 (secs)\n",
      "\n"
     ]
    },
    {
     "name": "stdout",
     "output_type": "stream",
     "text": [
      "[=========-----------------------------------------] 18.3% 303.8/1662.8MB downloaded"
     ]
    },
    {
     "name": "stderr",
     "output_type": "stream",
     "text": [
      "IOPub message rate exceeded.\n",
      "The notebook server will temporarily stop sending output\n",
      "to the client in order to avoid crashing it.\n",
      "To change this limit, set the config variable\n",
      "`--NotebookApp.iopub_msg_rate_limit`.\n",
      "\n",
      "Current values:\n",
      "NotebookApp.iopub_msg_rate_limit=1000.0 (msgs/sec)\n",
      "NotebookApp.rate_limit_window=3.0 (secs)\n",
      "\n"
     ]
    },
    {
     "name": "stdout",
     "output_type": "stream",
     "text": [
      "[==========----------------------------------------] 20.1% 333.8/1662.8MB downloaded"
     ]
    },
    {
     "name": "stderr",
     "output_type": "stream",
     "text": [
      "IOPub message rate exceeded.\n",
      "The notebook server will temporarily stop sending output\n",
      "to the client in order to avoid crashing it.\n",
      "To change this limit, set the config variable\n",
      "`--NotebookApp.iopub_msg_rate_limit`.\n",
      "\n",
      "Current values:\n",
      "NotebookApp.iopub_msg_rate_limit=1000.0 (msgs/sec)\n",
      "NotebookApp.rate_limit_window=3.0 (secs)\n",
      "\n"
     ]
    },
    {
     "name": "stdout",
     "output_type": "stream",
     "text": [
      "[==========----------------------------------------] 21.9% 363.9/1662.8MB downloaded"
     ]
    },
    {
     "name": "stderr",
     "output_type": "stream",
     "text": [
      "IOPub message rate exceeded.\n",
      "The notebook server will temporarily stop sending output\n",
      "to the client in order to avoid crashing it.\n",
      "To change this limit, set the config variable\n",
      "`--NotebookApp.iopub_msg_rate_limit`.\n",
      "\n",
      "Current values:\n",
      "NotebookApp.iopub_msg_rate_limit=1000.0 (msgs/sec)\n",
      "NotebookApp.rate_limit_window=3.0 (secs)\n",
      "\n"
     ]
    },
    {
     "name": "stdout",
     "output_type": "stream",
     "text": [
      "[===========---------------------------------------] 23.7% 393.9/1662.8MB downloaded"
     ]
    },
    {
     "name": "stderr",
     "output_type": "stream",
     "text": [
      "IOPub message rate exceeded.\n",
      "The notebook server will temporarily stop sending output\n",
      "to the client in order to avoid crashing it.\n",
      "To change this limit, set the config variable\n",
      "`--NotebookApp.iopub_msg_rate_limit`.\n",
      "\n",
      "Current values:\n",
      "NotebookApp.iopub_msg_rate_limit=1000.0 (msgs/sec)\n",
      "NotebookApp.rate_limit_window=3.0 (secs)\n",
      "\n"
     ]
    },
    {
     "name": "stdout",
     "output_type": "stream",
     "text": [
      "[============--------------------------------------] 25.5% 424.0/1662.8MB downloaded"
     ]
    },
    {
     "name": "stderr",
     "output_type": "stream",
     "text": [
      "IOPub message rate exceeded.\n",
      "The notebook server will temporarily stop sending output\n",
      "to the client in order to avoid crashing it.\n",
      "To change this limit, set the config variable\n",
      "`--NotebookApp.iopub_msg_rate_limit`.\n",
      "\n",
      "Current values:\n",
      "NotebookApp.iopub_msg_rate_limit=1000.0 (msgs/sec)\n",
      "NotebookApp.rate_limit_window=3.0 (secs)\n",
      "\n"
     ]
    },
    {
     "name": "stdout",
     "output_type": "stream",
     "text": [
      "[=============-------------------------------------] 27.3% 454.3/1662.8MB downloaded"
     ]
    },
    {
     "name": "stderr",
     "output_type": "stream",
     "text": [
      "IOPub message rate exceeded.\n",
      "The notebook server will temporarily stop sending output\n",
      "to the client in order to avoid crashing it.\n",
      "To change this limit, set the config variable\n",
      "`--NotebookApp.iopub_msg_rate_limit`.\n",
      "\n",
      "Current values:\n",
      "NotebookApp.iopub_msg_rate_limit=1000.0 (msgs/sec)\n",
      "NotebookApp.rate_limit_window=3.0 (secs)\n",
      "\n"
     ]
    },
    {
     "name": "stdout",
     "output_type": "stream",
     "text": [
      "[==============------------------------------------] 29.1% 484.4/1662.8MB downloaded"
     ]
    },
    {
     "name": "stderr",
     "output_type": "stream",
     "text": [
      "IOPub message rate exceeded.\n",
      "The notebook server will temporarily stop sending output\n",
      "to the client in order to avoid crashing it.\n",
      "To change this limit, set the config variable\n",
      "`--NotebookApp.iopub_msg_rate_limit`.\n",
      "\n",
      "Current values:\n",
      "NotebookApp.iopub_msg_rate_limit=1000.0 (msgs/sec)\n",
      "NotebookApp.rate_limit_window=3.0 (secs)\n",
      "\n"
     ]
    },
    {
     "name": "stdout",
     "output_type": "stream",
     "text": [
      "[===============-----------------------------------] 32.0% 531.6/1662.8MB downloaded"
     ]
    },
    {
     "name": "stderr",
     "output_type": "stream",
     "text": [
      "IOPub message rate exceeded.\n",
      "The notebook server will temporarily stop sending output\n",
      "to the client in order to avoid crashing it.\n",
      "To change this limit, set the config variable\n",
      "`--NotebookApp.iopub_msg_rate_limit`.\n",
      "\n",
      "Current values:\n",
      "NotebookApp.iopub_msg_rate_limit=1000.0 (msgs/sec)\n",
      "NotebookApp.rate_limit_window=3.0 (secs)\n",
      "\n"
     ]
    },
    {
     "name": "stdout",
     "output_type": "stream",
     "text": [
      "[================----------------------------------] 33.7% 560.7/1662.8MB downloaded"
     ]
    },
    {
     "name": "stderr",
     "output_type": "stream",
     "text": [
      "IOPub message rate exceeded.\n",
      "The notebook server will temporarily stop sending output\n",
      "to the client in order to avoid crashing it.\n",
      "To change this limit, set the config variable\n",
      "`--NotebookApp.iopub_msg_rate_limit`.\n",
      "\n",
      "Current values:\n",
      "NotebookApp.iopub_msg_rate_limit=1000.0 (msgs/sec)\n",
      "NotebookApp.rate_limit_window=3.0 (secs)\n",
      "\n"
     ]
    },
    {
     "name": "stdout",
     "output_type": "stream",
     "text": [
      "[==================--------------------------------] 36.5% 606.6/1662.8MB downloaded"
     ]
    },
    {
     "name": "stderr",
     "output_type": "stream",
     "text": [
      "IOPub message rate exceeded.\n",
      "The notebook server will temporarily stop sending output\n",
      "to the client in order to avoid crashing it.\n",
      "To change this limit, set the config variable\n",
      "`--NotebookApp.iopub_msg_rate_limit`.\n",
      "\n",
      "Current values:\n",
      "NotebookApp.iopub_msg_rate_limit=1000.0 (msgs/sec)\n",
      "NotebookApp.rate_limit_window=3.0 (secs)\n",
      "\n"
     ]
    },
    {
     "name": "stdout",
     "output_type": "stream",
     "text": [
      "[===================-------------------------------] 38.6% 641.1/1662.8MB downloaded"
     ]
    },
    {
     "name": "stderr",
     "output_type": "stream",
     "text": [
      "IOPub message rate exceeded.\n",
      "The notebook server will temporarily stop sending output\n",
      "to the client in order to avoid crashing it.\n",
      "To change this limit, set the config variable\n",
      "`--NotebookApp.iopub_msg_rate_limit`.\n",
      "\n",
      "Current values:\n",
      "NotebookApp.iopub_msg_rate_limit=1000.0 (msgs/sec)\n",
      "NotebookApp.rate_limit_window=3.0 (secs)\n",
      "\n"
     ]
    },
    {
     "name": "stdout",
     "output_type": "stream",
     "text": [
      "[====================------------------------------] 40.5% 673.6/1662.8MB downloaded"
     ]
    },
    {
     "name": "stderr",
     "output_type": "stream",
     "text": [
      "IOPub message rate exceeded.\n",
      "The notebook server will temporarily stop sending output\n",
      "to the client in order to avoid crashing it.\n",
      "To change this limit, set the config variable\n",
      "`--NotebookApp.iopub_msg_rate_limit`.\n",
      "\n",
      "Current values:\n",
      "NotebookApp.iopub_msg_rate_limit=1000.0 (msgs/sec)\n",
      "NotebookApp.rate_limit_window=3.0 (secs)\n",
      "\n"
     ]
    },
    {
     "name": "stdout",
     "output_type": "stream",
     "text": [
      "[=====================-----------------------------] 42.3% 703.5/1662.8MB downloaded"
     ]
    },
    {
     "name": "stderr",
     "output_type": "stream",
     "text": [
      "IOPub message rate exceeded.\n",
      "The notebook server will temporarily stop sending output\n",
      "to the client in order to avoid crashing it.\n",
      "To change this limit, set the config variable\n",
      "`--NotebookApp.iopub_msg_rate_limit`.\n",
      "\n",
      "Current values:\n",
      "NotebookApp.iopub_msg_rate_limit=1000.0 (msgs/sec)\n",
      "NotebookApp.rate_limit_window=3.0 (secs)\n",
      "\n"
     ]
    },
    {
     "name": "stdout",
     "output_type": "stream",
     "text": [
      "[======================----------------------------] 45.5% 756.7/1662.8MB downloaded"
     ]
    },
    {
     "name": "stderr",
     "output_type": "stream",
     "text": [
      "IOPub message rate exceeded.\n",
      "The notebook server will temporarily stop sending output\n",
      "to the client in order to avoid crashing it.\n",
      "To change this limit, set the config variable\n",
      "`--NotebookApp.iopub_msg_rate_limit`.\n",
      "\n",
      "Current values:\n",
      "NotebookApp.iopub_msg_rate_limit=1000.0 (msgs/sec)\n",
      "NotebookApp.rate_limit_window=3.0 (secs)\n",
      "\n"
     ]
    },
    {
     "name": "stdout",
     "output_type": "stream",
     "text": [
      "[=======================---------------------------] 47.3% 786.8/1662.8MB downloaded"
     ]
    },
    {
     "name": "stderr",
     "output_type": "stream",
     "text": [
      "IOPub message rate exceeded.\n",
      "The notebook server will temporarily stop sending output\n",
      "to the client in order to avoid crashing it.\n",
      "To change this limit, set the config variable\n",
      "`--NotebookApp.iopub_msg_rate_limit`.\n",
      "\n",
      "Current values:\n",
      "NotebookApp.iopub_msg_rate_limit=1000.0 (msgs/sec)\n",
      "NotebookApp.rate_limit_window=3.0 (secs)\n",
      "\n"
     ]
    },
    {
     "name": "stdout",
     "output_type": "stream",
     "text": [
      "[========================--------------------------] 49.9% 829.7/1662.8MB downloaded"
     ]
    },
    {
     "name": "stderr",
     "output_type": "stream",
     "text": [
      "IOPub message rate exceeded.\n",
      "The notebook server will temporarily stop sending output\n",
      "to the client in order to avoid crashing it.\n",
      "To change this limit, set the config variable\n",
      "`--NotebookApp.iopub_msg_rate_limit`.\n",
      "\n",
      "Current values:\n",
      "NotebookApp.iopub_msg_rate_limit=1000.0 (msgs/sec)\n",
      "NotebookApp.rate_limit_window=3.0 (secs)\n",
      "\n"
     ]
    },
    {
     "name": "stdout",
     "output_type": "stream",
     "text": [
      "[==========================------------------------] 52.5% 873.2/1662.8MB downloaded"
     ]
    },
    {
     "name": "stderr",
     "output_type": "stream",
     "text": [
      "IOPub message rate exceeded.\n",
      "The notebook server will temporarily stop sending output\n",
      "to the client in order to avoid crashing it.\n",
      "To change this limit, set the config variable\n",
      "`--NotebookApp.iopub_msg_rate_limit`.\n",
      "\n",
      "Current values:\n",
      "NotebookApp.iopub_msg_rate_limit=1000.0 (msgs/sec)\n",
      "NotebookApp.rate_limit_window=3.0 (secs)\n",
      "\n"
     ]
    },
    {
     "name": "stdout",
     "output_type": "stream",
     "text": [
      "[===========================-----------------------] 55.0% 915.1/1662.8MB downloaded"
     ]
    },
    {
     "name": "stderr",
     "output_type": "stream",
     "text": [
      "IOPub message rate exceeded.\n",
      "The notebook server will temporarily stop sending output\n",
      "to the client in order to avoid crashing it.\n",
      "To change this limit, set the config variable\n",
      "`--NotebookApp.iopub_msg_rate_limit`.\n",
      "\n",
      "Current values:\n",
      "NotebookApp.iopub_msg_rate_limit=1000.0 (msgs/sec)\n",
      "NotebookApp.rate_limit_window=3.0 (secs)\n",
      "\n"
     ]
    },
    {
     "name": "stdout",
     "output_type": "stream",
     "text": [
      "[============================----------------------] 56.9% 945.4/1662.8MB downloaded"
     ]
    },
    {
     "name": "stderr",
     "output_type": "stream",
     "text": [
      "IOPub message rate exceeded.\n",
      "The notebook server will temporarily stop sending output\n",
      "to the client in order to avoid crashing it.\n",
      "To change this limit, set the config variable\n",
      "`--NotebookApp.iopub_msg_rate_limit`.\n",
      "\n",
      "Current values:\n",
      "NotebookApp.iopub_msg_rate_limit=1000.0 (msgs/sec)\n",
      "NotebookApp.rate_limit_window=3.0 (secs)\n",
      "\n"
     ]
    },
    {
     "name": "stdout",
     "output_type": "stream",
     "text": [
      "[=============================---------------------] 59.6% 990.5/1662.8MB downloaded"
     ]
    },
    {
     "name": "stderr",
     "output_type": "stream",
     "text": [
      "IOPub message rate exceeded.\n",
      "The notebook server will temporarily stop sending output\n",
      "to the client in order to avoid crashing it.\n",
      "To change this limit, set the config variable\n",
      "`--NotebookApp.iopub_msg_rate_limit`.\n",
      "\n",
      "Current values:\n",
      "NotebookApp.iopub_msg_rate_limit=1000.0 (msgs/sec)\n",
      "NotebookApp.rate_limit_window=3.0 (secs)\n",
      "\n"
     ]
    },
    {
     "name": "stdout",
     "output_type": "stream",
     "text": [
      "[==============================--------------------] 61.8% 1027.8/1662.8MB downloaded"
     ]
    },
    {
     "name": "stderr",
     "output_type": "stream",
     "text": [
      "IOPub message rate exceeded.\n",
      "The notebook server will temporarily stop sending output\n",
      "to the client in order to avoid crashing it.\n",
      "To change this limit, set the config variable\n",
      "`--NotebookApp.iopub_msg_rate_limit`.\n",
      "\n",
      "Current values:\n",
      "NotebookApp.iopub_msg_rate_limit=1000.0 (msgs/sec)\n",
      "NotebookApp.rate_limit_window=3.0 (secs)\n",
      "\n"
     ]
    },
    {
     "name": "stdout",
     "output_type": "stream",
     "text": [
      "[===============================-------------------] 63.6% 1058.1/1662.8MB downloaded"
     ]
    },
    {
     "name": "stderr",
     "output_type": "stream",
     "text": [
      "IOPub message rate exceeded.\n",
      "The notebook server will temporarily stop sending output\n",
      "to the client in order to avoid crashing it.\n",
      "To change this limit, set the config variable\n",
      "`--NotebookApp.iopub_msg_rate_limit`.\n",
      "\n",
      "Current values:\n",
      "NotebookApp.iopub_msg_rate_limit=1000.0 (msgs/sec)\n",
      "NotebookApp.rate_limit_window=3.0 (secs)\n",
      "\n"
     ]
    },
    {
     "name": "stdout",
     "output_type": "stream",
     "text": [
      "[=================================-----------------] 66.6% 1106.9/1662.8MB downloaded"
     ]
    },
    {
     "name": "stderr",
     "output_type": "stream",
     "text": [
      "IOPub message rate exceeded.\n",
      "The notebook server will temporarily stop sending output\n",
      "to the client in order to avoid crashing it.\n",
      "To change this limit, set the config variable\n",
      "`--NotebookApp.iopub_msg_rate_limit`.\n",
      "\n",
      "Current values:\n",
      "NotebookApp.iopub_msg_rate_limit=1000.0 (msgs/sec)\n",
      "NotebookApp.rate_limit_window=3.0 (secs)\n",
      "\n"
     ]
    },
    {
     "name": "stdout",
     "output_type": "stream",
     "text": [
      "[==================================----------------] 68.9% 1145.9/1662.8MB downloaded"
     ]
    },
    {
     "name": "stderr",
     "output_type": "stream",
     "text": [
      "IOPub message rate exceeded.\n",
      "The notebook server will temporarily stop sending output\n",
      "to the client in order to avoid crashing it.\n",
      "To change this limit, set the config variable\n",
      "`--NotebookApp.iopub_msg_rate_limit`.\n",
      "\n",
      "Current values:\n",
      "NotebookApp.iopub_msg_rate_limit=1000.0 (msgs/sec)\n",
      "NotebookApp.rate_limit_window=3.0 (secs)\n",
      "\n"
     ]
    },
    {
     "name": "stdout",
     "output_type": "stream",
     "text": [
      "[===================================---------------] 71.9% 1195.4/1662.8MB downloaded"
     ]
    },
    {
     "name": "stderr",
     "output_type": "stream",
     "text": [
      "IOPub message rate exceeded.\n",
      "The notebook server will temporarily stop sending output\n",
      "to the client in order to avoid crashing it.\n",
      "To change this limit, set the config variable\n",
      "`--NotebookApp.iopub_msg_rate_limit`.\n",
      "\n",
      "Current values:\n",
      "NotebookApp.iopub_msg_rate_limit=1000.0 (msgs/sec)\n",
      "NotebookApp.rate_limit_window=3.0 (secs)\n",
      "\n"
     ]
    },
    {
     "name": "stdout",
     "output_type": "stream",
     "text": [
      "[====================================--------------] 73.7% 1225.2/1662.8MB downloaded"
     ]
    },
    {
     "name": "stderr",
     "output_type": "stream",
     "text": [
      "IOPub message rate exceeded.\n",
      "The notebook server will temporarily stop sending output\n",
      "to the client in order to avoid crashing it.\n",
      "To change this limit, set the config variable\n",
      "`--NotebookApp.iopub_msg_rate_limit`.\n",
      "\n",
      "Current values:\n",
      "NotebookApp.iopub_msg_rate_limit=1000.0 (msgs/sec)\n",
      "NotebookApp.rate_limit_window=3.0 (secs)\n",
      "\n"
     ]
    },
    {
     "name": "stdout",
     "output_type": "stream",
     "text": [
      "[======================================------------] 76.5% 1271.2/1662.8MB downloaded"
     ]
    },
    {
     "name": "stderr",
     "output_type": "stream",
     "text": [
      "IOPub message rate exceeded.\n",
      "The notebook server will temporarily stop sending output\n",
      "to the client in order to avoid crashing it.\n",
      "To change this limit, set the config variable\n",
      "`--NotebookApp.iopub_msg_rate_limit`.\n",
      "\n",
      "Current values:\n",
      "NotebookApp.iopub_msg_rate_limit=1000.0 (msgs/sec)\n",
      "NotebookApp.rate_limit_window=3.0 (secs)\n",
      "\n"
     ]
    },
    {
     "name": "stdout",
     "output_type": "stream",
     "text": [
      "[=======================================-----------] 78.3% 1302.0/1662.8MB downloaded"
     ]
    },
    {
     "name": "stderr",
     "output_type": "stream",
     "text": [
      "IOPub message rate exceeded.\n",
      "The notebook server will temporarily stop sending output\n",
      "to the client in order to avoid crashing it.\n",
      "To change this limit, set the config variable\n",
      "`--NotebookApp.iopub_msg_rate_limit`.\n",
      "\n",
      "Current values:\n",
      "NotebookApp.iopub_msg_rate_limit=1000.0 (msgs/sec)\n",
      "NotebookApp.rate_limit_window=3.0 (secs)\n",
      "\n"
     ]
    },
    {
     "name": "stdout",
     "output_type": "stream",
     "text": [
      "[========================================----------] 80.8% 1342.8/1662.8MB downloaded"
     ]
    },
    {
     "name": "stderr",
     "output_type": "stream",
     "text": [
      "IOPub message rate exceeded.\n",
      "The notebook server will temporarily stop sending output\n",
      "to the client in order to avoid crashing it.\n",
      "To change this limit, set the config variable\n",
      "`--NotebookApp.iopub_msg_rate_limit`.\n",
      "\n",
      "Current values:\n",
      "NotebookApp.iopub_msg_rate_limit=1000.0 (msgs/sec)\n",
      "NotebookApp.rate_limit_window=3.0 (secs)\n",
      "\n"
     ]
    },
    {
     "name": "stdout",
     "output_type": "stream",
     "text": [
      "[=========================================---------] 82.9% 1377.9/1662.8MB downloaded"
     ]
    },
    {
     "name": "stderr",
     "output_type": "stream",
     "text": [
      "IOPub message rate exceeded.\n",
      "The notebook server will temporarily stop sending output\n",
      "to the client in order to avoid crashing it.\n",
      "To change this limit, set the config variable\n",
      "`--NotebookApp.iopub_msg_rate_limit`.\n",
      "\n",
      "Current values:\n",
      "NotebookApp.iopub_msg_rate_limit=1000.0 (msgs/sec)\n",
      "NotebookApp.rate_limit_window=3.0 (secs)\n",
      "\n"
     ]
    },
    {
     "name": "stdout",
     "output_type": "stream",
     "text": [
      "[==========================================--------] 84.6% 1407.0/1662.8MB downloaded"
     ]
    },
    {
     "name": "stderr",
     "output_type": "stream",
     "text": [
      "IOPub message rate exceeded.\n",
      "The notebook server will temporarily stop sending output\n",
      "to the client in order to avoid crashing it.\n",
      "To change this limit, set the config variable\n",
      "`--NotebookApp.iopub_msg_rate_limit`.\n",
      "\n",
      "Current values:\n",
      "NotebookApp.iopub_msg_rate_limit=1000.0 (msgs/sec)\n",
      "NotebookApp.rate_limit_window=3.0 (secs)\n",
      "\n"
     ]
    },
    {
     "name": "stdout",
     "output_type": "stream",
     "text": [
      "[===========================================-------] 86.4% 1436.6/1662.8MB downloaded"
     ]
    },
    {
     "name": "stderr",
     "output_type": "stream",
     "text": [
      "IOPub message rate exceeded.\n",
      "The notebook server will temporarily stop sending output\n",
      "to the client in order to avoid crashing it.\n",
      "To change this limit, set the config variable\n",
      "`--NotebookApp.iopub_msg_rate_limit`.\n",
      "\n",
      "Current values:\n",
      "NotebookApp.iopub_msg_rate_limit=1000.0 (msgs/sec)\n",
      "NotebookApp.rate_limit_window=3.0 (secs)\n",
      "\n"
     ]
    },
    {
     "name": "stdout",
     "output_type": "stream",
     "text": [
      "[============================================------] 89.5% 1489.0/1662.8MB downloaded"
     ]
    },
    {
     "name": "stderr",
     "output_type": "stream",
     "text": [
      "IOPub message rate exceeded.\n",
      "The notebook server will temporarily stop sending output\n",
      "to the client in order to avoid crashing it.\n",
      "To change this limit, set the config variable\n",
      "`--NotebookApp.iopub_msg_rate_limit`.\n",
      "\n",
      "Current values:\n",
      "NotebookApp.iopub_msg_rate_limit=1000.0 (msgs/sec)\n",
      "NotebookApp.rate_limit_window=3.0 (secs)\n",
      "\n"
     ]
    },
    {
     "name": "stdout",
     "output_type": "stream",
     "text": [
      "[=============================================-----] 91.3% 1518.2/1662.8MB downloaded"
     ]
    },
    {
     "name": "stderr",
     "output_type": "stream",
     "text": [
      "IOPub message rate exceeded.\n",
      "The notebook server will temporarily stop sending output\n",
      "to the client in order to avoid crashing it.\n",
      "To change this limit, set the config variable\n",
      "`--NotebookApp.iopub_msg_rate_limit`.\n",
      "\n",
      "Current values:\n",
      "NotebookApp.iopub_msg_rate_limit=1000.0 (msgs/sec)\n",
      "NotebookApp.rate_limit_window=3.0 (secs)\n",
      "\n"
     ]
    },
    {
     "name": "stdout",
     "output_type": "stream",
     "text": [
      "[==============================================----] 93.1% 1548.2/1662.8MB downloaded"
     ]
    },
    {
     "name": "stderr",
     "output_type": "stream",
     "text": [
      "IOPub message rate exceeded.\n",
      "The notebook server will temporarily stop sending output\n",
      "to the client in order to avoid crashing it.\n",
      "To change this limit, set the config variable\n",
      "`--NotebookApp.iopub_msg_rate_limit`.\n",
      "\n",
      "Current values:\n",
      "NotebookApp.iopub_msg_rate_limit=1000.0 (msgs/sec)\n",
      "NotebookApp.rate_limit_window=3.0 (secs)\n",
      "\n"
     ]
    },
    {
     "name": "stdout",
     "output_type": "stream",
     "text": [
      "[===============================================---] 95.7% 1591.7/1662.8MB downloaded"
     ]
    },
    {
     "name": "stderr",
     "output_type": "stream",
     "text": [
      "IOPub message rate exceeded.\n",
      "The notebook server will temporarily stop sending output\n",
      "to the client in order to avoid crashing it.\n",
      "To change this limit, set the config variable\n",
      "`--NotebookApp.iopub_msg_rate_limit`.\n",
      "\n",
      "Current values:\n",
      "NotebookApp.iopub_msg_rate_limit=1000.0 (msgs/sec)\n",
      "NotebookApp.rate_limit_window=3.0 (secs)\n",
      "\n"
     ]
    },
    {
     "name": "stdout",
     "output_type": "stream",
     "text": [
      "[================================================--] 97.5% 1621.8/1662.8MB downloaded"
     ]
    },
    {
     "name": "stderr",
     "output_type": "stream",
     "text": [
      "IOPub message rate exceeded.\n",
      "The notebook server will temporarily stop sending output\n",
      "to the client in order to avoid crashing it.\n",
      "To change this limit, set the config variable\n",
      "`--NotebookApp.iopub_msg_rate_limit`.\n",
      "\n",
      "Current values:\n",
      "NotebookApp.iopub_msg_rate_limit=1000.0 (msgs/sec)\n",
      "NotebookApp.rate_limit_window=3.0 (secs)\n",
      "\n"
     ]
    },
    {
     "name": "stdout",
     "output_type": "stream",
     "text": [
      "[=================================================-] 99.8% 1659.6/1662.8MB downloaded"
     ]
    },
    {
     "name": "stderr",
     "output_type": "stream",
     "text": [
      "IOPub message rate exceeded.\n",
      "The notebook server will temporarily stop sending output\n",
      "to the client in order to avoid crashing it.\n",
      "To change this limit, set the config variable\n",
      "`--NotebookApp.iopub_msg_rate_limit`.\n",
      "\n",
      "Current values:\n",
      "NotebookApp.iopub_msg_rate_limit=1000.0 (msgs/sec)\n",
      "NotebookApp.rate_limit_window=3.0 (secs)\n",
      "\n"
     ]
    }
   ],
   "source": [
    "wv = api.load('word2vec-google-news-300')\n",
    "vec_king = wv[\"king\"]"
   ]
  },
  {
   "cell_type": "code",
   "execution_count": 31,
   "id": "f1ba23d4",
   "metadata": {
    "scrolled": true
   },
   "outputs": [
    {
     "data": {
      "text/plain": [
       "array([ 1.25976562e-01,  2.97851562e-02,  8.60595703e-03,  1.39648438e-01,\n",
       "       -2.56347656e-02, -3.61328125e-02,  1.11816406e-01, -1.98242188e-01,\n",
       "        5.12695312e-02,  3.63281250e-01, -2.42187500e-01, -3.02734375e-01,\n",
       "       -1.77734375e-01, -2.49023438e-02, -1.67968750e-01, -1.69921875e-01,\n",
       "        3.46679688e-02,  5.21850586e-03,  4.63867188e-02,  1.28906250e-01,\n",
       "        1.36718750e-01,  1.12792969e-01,  5.95703125e-02,  1.36718750e-01,\n",
       "        1.01074219e-01, -1.76757812e-01, -2.51953125e-01,  5.98144531e-02,\n",
       "        3.41796875e-01, -3.11279297e-02,  1.04492188e-01,  6.17675781e-02,\n",
       "        1.24511719e-01,  4.00390625e-01, -3.22265625e-01,  8.39843750e-02,\n",
       "        3.90625000e-02,  5.85937500e-03,  7.03125000e-02,  1.72851562e-01,\n",
       "        1.38671875e-01, -2.31445312e-01,  2.83203125e-01,  1.42578125e-01,\n",
       "        3.41796875e-01, -2.39257812e-02, -1.09863281e-01,  3.32031250e-02,\n",
       "       -5.46875000e-02,  1.53198242e-02, -1.62109375e-01,  1.58203125e-01,\n",
       "       -2.59765625e-01,  2.01416016e-02, -1.63085938e-01,  1.35803223e-03,\n",
       "       -1.44531250e-01, -5.68847656e-02,  4.29687500e-02, -2.46582031e-02,\n",
       "        1.85546875e-01,  4.47265625e-01,  9.58251953e-03,  1.31835938e-01,\n",
       "        9.86328125e-02, -1.85546875e-01, -1.00097656e-01, -1.33789062e-01,\n",
       "       -1.25000000e-01,  2.83203125e-01,  1.23046875e-01,  5.32226562e-02,\n",
       "       -1.77734375e-01,  8.59375000e-02, -2.18505859e-02,  2.05078125e-02,\n",
       "       -1.39648438e-01,  2.51464844e-02,  1.38671875e-01, -1.05468750e-01,\n",
       "        1.38671875e-01,  8.88671875e-02, -7.51953125e-02, -2.13623047e-02,\n",
       "        1.72851562e-01,  4.63867188e-02, -2.65625000e-01,  8.91113281e-03,\n",
       "        1.49414062e-01,  3.78417969e-02,  2.38281250e-01, -1.24511719e-01,\n",
       "       -2.17773438e-01, -1.81640625e-01,  2.97851562e-02,  5.71289062e-02,\n",
       "       -2.89306641e-02,  1.24511719e-02,  9.66796875e-02, -2.31445312e-01,\n",
       "        5.81054688e-02,  6.68945312e-02,  7.08007812e-02, -3.08593750e-01,\n",
       "       -2.14843750e-01,  1.45507812e-01, -4.27734375e-01, -9.39941406e-03,\n",
       "        1.54296875e-01, -7.66601562e-02,  2.89062500e-01,  2.77343750e-01,\n",
       "       -4.86373901e-04, -1.36718750e-01,  3.24218750e-01, -2.46093750e-01,\n",
       "       -3.03649902e-03, -2.11914062e-01,  1.25000000e-01,  2.69531250e-01,\n",
       "        2.04101562e-01,  8.25195312e-02, -2.01171875e-01, -1.60156250e-01,\n",
       "       -3.78417969e-02, -1.20117188e-01,  1.15234375e-01, -4.10156250e-02,\n",
       "       -3.95507812e-02, -8.98437500e-02,  6.34765625e-03,  2.03125000e-01,\n",
       "        1.86523438e-01,  2.73437500e-01,  6.29882812e-02,  1.41601562e-01,\n",
       "       -9.81445312e-02,  1.38671875e-01,  1.82617188e-01,  1.73828125e-01,\n",
       "        1.73828125e-01, -2.37304688e-01,  1.78710938e-01,  6.34765625e-02,\n",
       "        2.36328125e-01, -2.08984375e-01,  8.74023438e-02, -1.66015625e-01,\n",
       "       -7.91015625e-02,  2.43164062e-01, -8.88671875e-02,  1.26953125e-01,\n",
       "       -2.16796875e-01, -1.73828125e-01, -3.59375000e-01, -8.25195312e-02,\n",
       "       -6.49414062e-02,  5.07812500e-02,  1.35742188e-01, -7.47070312e-02,\n",
       "       -1.64062500e-01,  1.15356445e-02,  4.45312500e-01, -2.15820312e-01,\n",
       "       -1.11328125e-01, -1.92382812e-01,  1.70898438e-01, -1.25000000e-01,\n",
       "        2.65502930e-03,  1.92382812e-01, -1.74804688e-01,  1.39648438e-01,\n",
       "        2.92968750e-01,  1.13281250e-01,  5.95703125e-02, -6.39648438e-02,\n",
       "        9.96093750e-02, -2.72216797e-02,  1.96533203e-02,  4.27246094e-02,\n",
       "       -2.46093750e-01,  6.39648438e-02, -2.25585938e-01, -1.68945312e-01,\n",
       "        2.89916992e-03,  8.20312500e-02,  3.41796875e-01,  4.32128906e-02,\n",
       "        1.32812500e-01,  1.42578125e-01,  7.61718750e-02,  5.98144531e-02,\n",
       "       -1.19140625e-01,  2.74658203e-03, -6.29882812e-02, -2.72216797e-02,\n",
       "       -4.82177734e-03, -8.20312500e-02, -2.49023438e-02, -4.00390625e-01,\n",
       "       -1.06933594e-01,  4.24804688e-02,  7.76367188e-02, -1.16699219e-01,\n",
       "        7.37304688e-02, -9.22851562e-02,  1.07910156e-01,  1.58203125e-01,\n",
       "        4.24804688e-02,  1.26953125e-01,  3.61328125e-02,  2.67578125e-01,\n",
       "       -1.01074219e-01, -3.02734375e-01, -5.76171875e-02,  5.05371094e-02,\n",
       "        5.26428223e-04, -2.07031250e-01, -1.38671875e-01, -8.97216797e-03,\n",
       "       -2.78320312e-02, -1.41601562e-01,  2.07031250e-01, -1.58203125e-01,\n",
       "        1.27929688e-01,  1.49414062e-01, -2.24609375e-02, -8.44726562e-02,\n",
       "        1.22558594e-01,  2.15820312e-01, -2.13867188e-01, -3.12500000e-01,\n",
       "       -3.73046875e-01,  4.08935547e-03,  1.07421875e-01,  1.06933594e-01,\n",
       "        7.32421875e-02,  8.97216797e-03, -3.88183594e-02, -1.29882812e-01,\n",
       "        1.49414062e-01, -2.14843750e-01, -1.83868408e-03,  9.91210938e-02,\n",
       "        1.57226562e-01, -1.14257812e-01, -2.05078125e-01,  9.91210938e-02,\n",
       "        3.69140625e-01, -1.97265625e-01,  3.54003906e-02,  1.09375000e-01,\n",
       "        1.31835938e-01,  1.66992188e-01,  2.35351562e-01,  1.04980469e-01,\n",
       "       -4.96093750e-01, -1.64062500e-01, -1.56250000e-01, -5.22460938e-02,\n",
       "        1.03027344e-01,  2.43164062e-01, -1.88476562e-01,  5.07812500e-02,\n",
       "       -9.37500000e-02, -6.68945312e-02,  2.27050781e-02,  7.61718750e-02,\n",
       "        2.89062500e-01,  3.10546875e-01, -5.37109375e-02,  2.28515625e-01,\n",
       "        2.51464844e-02,  6.78710938e-02, -1.21093750e-01, -2.15820312e-01,\n",
       "       -2.73437500e-01, -3.07617188e-02, -3.37890625e-01,  1.53320312e-01,\n",
       "        2.33398438e-01, -2.08007812e-01,  3.73046875e-01,  8.20312500e-02,\n",
       "        2.51953125e-01, -7.61718750e-02, -4.66308594e-02, -2.23388672e-02,\n",
       "        2.99072266e-02, -5.93261719e-02, -4.66918945e-03, -2.44140625e-01,\n",
       "       -2.09960938e-01, -2.87109375e-01, -4.54101562e-02, -1.77734375e-01,\n",
       "       -2.79296875e-01, -8.59375000e-02,  9.13085938e-02,  2.51953125e-01],\n",
       "      dtype=float32)"
      ]
     },
     "execution_count": 31,
     "metadata": {},
     "output_type": "execute_result"
    }
   ],
   "source": [
    "vec_king"
   ]
  },
  {
   "cell_type": "code",
   "execution_count": 32,
   "id": "7e64b1b9",
   "metadata": {},
   "outputs": [
    {
     "data": {
      "text/plain": [
       "(300,)"
      ]
     },
     "execution_count": 32,
     "metadata": {},
     "output_type": "execute_result"
    }
   ],
   "source": [
    "vec_king.shape"
   ]
  },
  {
   "cell_type": "code",
   "execution_count": 33,
   "id": "fd5f9fee",
   "metadata": {},
   "outputs": [
    {
     "data": {
      "text/plain": [
       "[('cricketing', 0.8372225761413574),\n",
       " ('cricketers', 0.8165745735168457),\n",
       " ('Test_cricket', 0.8094819784164429),\n",
       " ('Twenty##_cricket', 0.8068488240242004),\n",
       " ('Twenty##', 0.7624265551567078),\n",
       " ('Cricket', 0.7541396617889404),\n",
       " ('cricketer', 0.7372578382492065),\n",
       " ('twenty##', 0.7316356897354126),\n",
       " ('T##_cricket', 0.7304614186286926),\n",
       " ('West_Indies_cricket', 0.698798656463623)]"
      ]
     },
     "execution_count": 33,
     "metadata": {},
     "output_type": "execute_result"
    }
   ],
   "source": [
    "wv.most_similar('cricket')"
   ]
  },
  {
   "cell_type": "code",
   "execution_count": 34,
   "id": "7794086c",
   "metadata": {},
   "outputs": [
    {
     "data": {
      "text/plain": [
       "[('boy', 0.8543271422386169),\n",
       " ('teenage_girl', 0.7927975654602051),\n",
       " ('woman', 0.7494640946388245),\n",
       " ('teenager', 0.717249870300293),\n",
       " ('schoolgirl', 0.7075953483581543),\n",
       " ('teenaged_girl', 0.6650916337966919),\n",
       " ('daughter', 0.6489864587783813),\n",
       " ('mother', 0.6478164196014404),\n",
       " ('toddler', 0.6473967432975769),\n",
       " ('girls', 0.6154742240905762)]"
      ]
     },
     "execution_count": 34,
     "metadata": {},
     "output_type": "execute_result"
    }
   ],
   "source": [
    "wv.most_similar('girl')"
   ]
  },
  {
   "cell_type": "code",
   "execution_count": 35,
   "id": "58955fd4",
   "metadata": {},
   "outputs": [
    {
     "data": {
      "text/plain": [
       "[('saddening', 0.7273085713386536),\n",
       " ('Sad', 0.6610826253890991),\n",
       " ('saddened', 0.6604382395744324),\n",
       " ('heartbreaking', 0.6573508381843567),\n",
       " ('disheartening', 0.6507317423820496),\n",
       " ('Meny_Friedman', 0.6487058401107788),\n",
       " ('parishioner_Pat_Patello', 0.6475860476493835),\n",
       " ('saddens_me', 0.6407119035720825),\n",
       " ('distressing', 0.6399093270301819),\n",
       " ('reminders_bobbing', 0.6357713937759399)]"
      ]
     },
     "execution_count": 35,
     "metadata": {},
     "output_type": "execute_result"
    }
   ],
   "source": [
    "wv.most_similar('sad')"
   ]
  },
  {
   "cell_type": "code",
   "execution_count": 36,
   "id": "7c002d91",
   "metadata": {},
   "outputs": [
    {
     "data": {
      "text/plain": [
       "[('glad', 0.7408890724182129),\n",
       " ('pleased', 0.6632170677185059),\n",
       " ('ecstatic', 0.6626912355422974),\n",
       " ('overjoyed', 0.6599286794662476),\n",
       " ('thrilled', 0.6514049172401428),\n",
       " ('satisfied', 0.6437949538230896),\n",
       " ('proud', 0.636042058467865),\n",
       " ('delighted', 0.6272379159927368),\n",
       " ('disappointed', 0.6269949674606323),\n",
       " ('excited', 0.6247665882110596)]"
      ]
     },
     "execution_count": 36,
     "metadata": {},
     "output_type": "execute_result"
    }
   ],
   "source": [
    "wv.most_similar('happy')"
   ]
  },
  {
   "cell_type": "code",
   "execution_count": null,
   "id": "d6c47936",
   "metadata": {},
   "outputs": [],
   "source": []
  }
 ],
 "metadata": {
  "kernelspec": {
   "display_name": "Python 3 (ipykernel)",
   "language": "python",
   "name": "python3"
  },
  "language_info": {
   "codemirror_mode": {
    "name": "ipython",
    "version": 3
   },
   "file_extension": ".py",
   "mimetype": "text/x-python",
   "name": "python",
   "nbconvert_exporter": "python",
   "pygments_lexer": "ipython3",
   "version": "3.7.15"
  }
 },
 "nbformat": 4,
 "nbformat_minor": 5
}
